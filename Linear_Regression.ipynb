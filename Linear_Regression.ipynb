{
  "nbformat": 4,
  "nbformat_minor": 0,
  "metadata": {
    "colab": {
      "name": "Linear Regression",
      "provenance": [],
      "collapsed_sections": [],
      "authorship_tag": "ABX9TyOgkAGgzInuJZm4goLdZCgZ",
      "include_colab_link": true
    },
    "kernelspec": {
      "name": "python3",
      "display_name": "Python 3"
    },
    "language_info": {
      "name": "python"
    }
  },
  "cells": [
    {
      "cell_type": "markdown",
      "metadata": {
        "id": "view-in-github",
        "colab_type": "text"
      },
      "source": [
        "<a href=\"https://colab.research.google.com/github/ChristianKitte/HelloRegression/blob/main/Linear_Regression.ipynb\" target=\"_parent\"><img src=\"https://colab.research.google.com/assets/colab-badge.svg\" alt=\"Open In Colab\"/></a>"
      ]
    },
    {
      "cell_type": "code",
      "metadata": {
        "colab": {
          "base_uri": "https://localhost:8080/"
        },
        "id": "vwggCQ7ErHdA",
        "outputId": "4a619a01-f444-4746-caba-88382ae82f37"
      },
      "source": [
        "# Bibliotheken verfügbar machen\n",
        "\n",
        "import numpy as np\n",
        "import pandas as pd\n",
        "\n",
        "from scipy import stats\n",
        "\n",
        "from sklearn.model_selection import train_test_split\n",
        "from sklearn.linear_model import LinearRegression\n",
        "\n",
        "%matplotlib inline\n",
        "import matplotlib.pyplot as plot\n",
        "\n",
        "print(\"Bibliotheken verfügbar...\")\n"
      ],
      "execution_count": null,
      "outputs": [
        {
          "output_type": "stream",
          "text": [
            "Bibliotheken verfügbar...\n"
          ],
          "name": "stdout"
        }
      ]
    },
    {
      "cell_type": "markdown",
      "metadata": {
        "id": "vTf5hSOK9sHJ"
      },
      "source": [
        "Fiktiver Kontext:\n",
        "\n",
        "An freien Mitarbeitern werden Aufträge vergeben, welche nach vorheriger Absprache von diesen zu erledigen sind. Es ist normal, dass es eine Reihe von Gründen gibt, warum diese nicht erfolgreich sind. Nicht immer sind diese von den Mitarbeitern zu vertreten. Ein Auftrag wurde erfolgreich erledigt, sofern er fristgerecht und korrekt zur weiteren Verwendung vorliegt.\n",
        "\n",
        "Die Daten sind auf GitHub als CSV Datei verfügbar (Link siehe unten)."
      ]
    },
    {
      "cell_type": "code",
      "metadata": {
        "colab": {
          "base_uri": "https://localhost:8080/",
          "height": 1000
        },
        "id": "WoChcJnY1x9s",
        "outputId": "b7f15799-1b4c-458d-df83-18432c5b0867"
      },
      "source": [
        "# Daten von GitHub besorgen und Überschriften zur besseren Übersicht anpassen\n",
        "\n",
        "ds=pd.read_csv(\"https://raw.githubusercontent.com/ChristianKitte/HelloRegression/main/Auftraege.csv\")\n",
        "ds=ds.rename(columns={\"Anzahl angenommene Aufträge\":\"Aufträge\",\"Anzahl erfolgreiche Ausführung\":\"erfolgreich\"})\n",
        "\n",
        "print(\"Daten wurden geholt...\")\n",
        "print(\"\")\n",
        "\n",
        "ds"
      ],
      "execution_count": null,
      "outputs": [
        {
          "output_type": "stream",
          "text": [
            "Daten wurden geholt...\n",
            "\n"
          ],
          "name": "stdout"
        },
        {
          "output_type": "execute_result",
          "data": {
            "text/html": [
              "<div>\n",
              "<style scoped>\n",
              "    .dataframe tbody tr th:only-of-type {\n",
              "        vertical-align: middle;\n",
              "    }\n",
              "\n",
              "    .dataframe tbody tr th {\n",
              "        vertical-align: top;\n",
              "    }\n",
              "\n",
              "    .dataframe thead th {\n",
              "        text-align: right;\n",
              "    }\n",
              "</style>\n",
              "<table border=\"1\" class=\"dataframe\">\n",
              "  <thead>\n",
              "    <tr style=\"text-align: right;\">\n",
              "      <th></th>\n",
              "      <th>Aufträge</th>\n",
              "      <th>erfolgreich</th>\n",
              "    </tr>\n",
              "  </thead>\n",
              "  <tbody>\n",
              "    <tr>\n",
              "      <th>0</th>\n",
              "      <td>1</td>\n",
              "      <td>1</td>\n",
              "    </tr>\n",
              "    <tr>\n",
              "      <th>1</th>\n",
              "      <td>4</td>\n",
              "      <td>4</td>\n",
              "    </tr>\n",
              "    <tr>\n",
              "      <th>2</th>\n",
              "      <td>6</td>\n",
              "      <td>6</td>\n",
              "    </tr>\n",
              "    <tr>\n",
              "      <th>3</th>\n",
              "      <td>2</td>\n",
              "      <td>2</td>\n",
              "    </tr>\n",
              "    <tr>\n",
              "      <th>4</th>\n",
              "      <td>4</td>\n",
              "      <td>4</td>\n",
              "    </tr>\n",
              "    <tr>\n",
              "      <th>5</th>\n",
              "      <td>9</td>\n",
              "      <td>8</td>\n",
              "    </tr>\n",
              "    <tr>\n",
              "      <th>6</th>\n",
              "      <td>5</td>\n",
              "      <td>5</td>\n",
              "    </tr>\n",
              "    <tr>\n",
              "      <th>7</th>\n",
              "      <td>2</td>\n",
              "      <td>2</td>\n",
              "    </tr>\n",
              "    <tr>\n",
              "      <th>8</th>\n",
              "      <td>8</td>\n",
              "      <td>7</td>\n",
              "    </tr>\n",
              "    <tr>\n",
              "      <th>9</th>\n",
              "      <td>4</td>\n",
              "      <td>2</td>\n",
              "    </tr>\n",
              "    <tr>\n",
              "      <th>10</th>\n",
              "      <td>12</td>\n",
              "      <td>11</td>\n",
              "    </tr>\n",
              "    <tr>\n",
              "      <th>11</th>\n",
              "      <td>5</td>\n",
              "      <td>5</td>\n",
              "    </tr>\n",
              "    <tr>\n",
              "      <th>12</th>\n",
              "      <td>1</td>\n",
              "      <td>1</td>\n",
              "    </tr>\n",
              "    <tr>\n",
              "      <th>13</th>\n",
              "      <td>8</td>\n",
              "      <td>7</td>\n",
              "    </tr>\n",
              "    <tr>\n",
              "      <th>14</th>\n",
              "      <td>12</td>\n",
              "      <td>11</td>\n",
              "    </tr>\n",
              "    <tr>\n",
              "      <th>15</th>\n",
              "      <td>3</td>\n",
              "      <td>1</td>\n",
              "    </tr>\n",
              "    <tr>\n",
              "      <th>16</th>\n",
              "      <td>2</td>\n",
              "      <td>2</td>\n",
              "    </tr>\n",
              "    <tr>\n",
              "      <th>17</th>\n",
              "      <td>8</td>\n",
              "      <td>8</td>\n",
              "    </tr>\n",
              "    <tr>\n",
              "      <th>18</th>\n",
              "      <td>4</td>\n",
              "      <td>4</td>\n",
              "    </tr>\n",
              "    <tr>\n",
              "      <th>19</th>\n",
              "      <td>14</td>\n",
              "      <td>8</td>\n",
              "    </tr>\n",
              "    <tr>\n",
              "      <th>20</th>\n",
              "      <td>2</td>\n",
              "      <td>2</td>\n",
              "    </tr>\n",
              "    <tr>\n",
              "      <th>21</th>\n",
              "      <td>8</td>\n",
              "      <td>0</td>\n",
              "    </tr>\n",
              "    <tr>\n",
              "      <th>22</th>\n",
              "      <td>3</td>\n",
              "      <td>2</td>\n",
              "    </tr>\n",
              "    <tr>\n",
              "      <th>23</th>\n",
              "      <td>9</td>\n",
              "      <td>2</td>\n",
              "    </tr>\n",
              "    <tr>\n",
              "      <th>24</th>\n",
              "      <td>4</td>\n",
              "      <td>4</td>\n",
              "    </tr>\n",
              "    <tr>\n",
              "      <th>25</th>\n",
              "      <td>10</td>\n",
              "      <td>8</td>\n",
              "    </tr>\n",
              "    <tr>\n",
              "      <th>26</th>\n",
              "      <td>4</td>\n",
              "      <td>4</td>\n",
              "    </tr>\n",
              "    <tr>\n",
              "      <th>27</th>\n",
              "      <td>9</td>\n",
              "      <td>8</td>\n",
              "    </tr>\n",
              "    <tr>\n",
              "      <th>28</th>\n",
              "      <td>8</td>\n",
              "      <td>7</td>\n",
              "    </tr>\n",
              "    <tr>\n",
              "      <th>29</th>\n",
              "      <td>1</td>\n",
              "      <td>1</td>\n",
              "    </tr>\n",
              "    <tr>\n",
              "      <th>30</th>\n",
              "      <td>4</td>\n",
              "      <td>4</td>\n",
              "    </tr>\n",
              "    <tr>\n",
              "      <th>31</th>\n",
              "      <td>6</td>\n",
              "      <td>2</td>\n",
              "    </tr>\n",
              "    <tr>\n",
              "      <th>32</th>\n",
              "      <td>2</td>\n",
              "      <td>2</td>\n",
              "    </tr>\n",
              "    <tr>\n",
              "      <th>33</th>\n",
              "      <td>4</td>\n",
              "      <td>3</td>\n",
              "    </tr>\n",
              "    <tr>\n",
              "      <th>34</th>\n",
              "      <td>9</td>\n",
              "      <td>8</td>\n",
              "    </tr>\n",
              "    <tr>\n",
              "      <th>35</th>\n",
              "      <td>5</td>\n",
              "      <td>4</td>\n",
              "    </tr>\n",
              "    <tr>\n",
              "      <th>36</th>\n",
              "      <td>2</td>\n",
              "      <td>2</td>\n",
              "    </tr>\n",
              "    <tr>\n",
              "      <th>37</th>\n",
              "      <td>8</td>\n",
              "      <td>7</td>\n",
              "    </tr>\n",
              "    <tr>\n",
              "      <th>38</th>\n",
              "      <td>4</td>\n",
              "      <td>2</td>\n",
              "    </tr>\n",
              "    <tr>\n",
              "      <th>39</th>\n",
              "      <td>12</td>\n",
              "      <td>8</td>\n",
              "    </tr>\n",
              "    <tr>\n",
              "      <th>40</th>\n",
              "      <td>5</td>\n",
              "      <td>5</td>\n",
              "    </tr>\n",
              "    <tr>\n",
              "      <th>41</th>\n",
              "      <td>1</td>\n",
              "      <td>1</td>\n",
              "    </tr>\n",
              "    <tr>\n",
              "      <th>42</th>\n",
              "      <td>8</td>\n",
              "      <td>7</td>\n",
              "    </tr>\n",
              "    <tr>\n",
              "      <th>43</th>\n",
              "      <td>12</td>\n",
              "      <td>10</td>\n",
              "    </tr>\n",
              "    <tr>\n",
              "      <th>44</th>\n",
              "      <td>3</td>\n",
              "      <td>1</td>\n",
              "    </tr>\n",
              "    <tr>\n",
              "      <th>45</th>\n",
              "      <td>2</td>\n",
              "      <td>0</td>\n",
              "    </tr>\n",
              "    <tr>\n",
              "      <th>46</th>\n",
              "      <td>8</td>\n",
              "      <td>8</td>\n",
              "    </tr>\n",
              "    <tr>\n",
              "      <th>47</th>\n",
              "      <td>4</td>\n",
              "      <td>4</td>\n",
              "    </tr>\n",
              "    <tr>\n",
              "      <th>48</th>\n",
              "      <td>14</td>\n",
              "      <td>14</td>\n",
              "    </tr>\n",
              "    <tr>\n",
              "      <th>49</th>\n",
              "      <td>2</td>\n",
              "      <td>2</td>\n",
              "    </tr>\n",
              "    <tr>\n",
              "      <th>50</th>\n",
              "      <td>8</td>\n",
              "      <td>0</td>\n",
              "    </tr>\n",
              "    <tr>\n",
              "      <th>51</th>\n",
              "      <td>3</td>\n",
              "      <td>2</td>\n",
              "    </tr>\n",
              "    <tr>\n",
              "      <th>52</th>\n",
              "      <td>9</td>\n",
              "      <td>6</td>\n",
              "    </tr>\n",
              "    <tr>\n",
              "      <th>53</th>\n",
              "      <td>4</td>\n",
              "      <td>4</td>\n",
              "    </tr>\n",
              "    <tr>\n",
              "      <th>54</th>\n",
              "      <td>10</td>\n",
              "      <td>6</td>\n",
              "    </tr>\n",
              "    <tr>\n",
              "      <th>55</th>\n",
              "      <td>4</td>\n",
              "      <td>4</td>\n",
              "    </tr>\n",
              "    <tr>\n",
              "      <th>56</th>\n",
              "      <td>9</td>\n",
              "      <td>9</td>\n",
              "    </tr>\n",
              "    <tr>\n",
              "      <th>57</th>\n",
              "      <td>8</td>\n",
              "      <td>8</td>\n",
              "    </tr>\n",
              "  </tbody>\n",
              "</table>\n",
              "</div>"
            ],
            "text/plain": [
              "    Aufträge  erfolgreich\n",
              "0          1            1\n",
              "1          4            4\n",
              "2          6            6\n",
              "3          2            2\n",
              "4          4            4\n",
              "5          9            8\n",
              "6          5            5\n",
              "7          2            2\n",
              "8          8            7\n",
              "9          4            2\n",
              "10        12           11\n",
              "11         5            5\n",
              "12         1            1\n",
              "13         8            7\n",
              "14        12           11\n",
              "15         3            1\n",
              "16         2            2\n",
              "17         8            8\n",
              "18         4            4\n",
              "19        14            8\n",
              "20         2            2\n",
              "21         8            0\n",
              "22         3            2\n",
              "23         9            2\n",
              "24         4            4\n",
              "25        10            8\n",
              "26         4            4\n",
              "27         9            8\n",
              "28         8            7\n",
              "29         1            1\n",
              "30         4            4\n",
              "31         6            2\n",
              "32         2            2\n",
              "33         4            3\n",
              "34         9            8\n",
              "35         5            4\n",
              "36         2            2\n",
              "37         8            7\n",
              "38         4            2\n",
              "39        12            8\n",
              "40         5            5\n",
              "41         1            1\n",
              "42         8            7\n",
              "43        12           10\n",
              "44         3            1\n",
              "45         2            0\n",
              "46         8            8\n",
              "47         4            4\n",
              "48        14           14\n",
              "49         2            2\n",
              "50         8            0\n",
              "51         3            2\n",
              "52         9            6\n",
              "53         4            4\n",
              "54        10            6\n",
              "55         4            4\n",
              "56         9            9\n",
              "57         8            8"
            ]
          },
          "metadata": {
            "tags": []
          },
          "execution_count": 79
        }
      ]
    },
    {
      "cell_type": "code",
      "metadata": {
        "colab": {
          "base_uri": "https://localhost:8080/",
          "height": 559
        },
        "id": "4ZZ_Hx453LeM",
        "outputId": "dccd4180-49ac-44c3-962c-ccb4f7045629"
      },
      "source": [
        "# Die Daten sollen in einem Diagramm angezeicht werden\n",
        "# https://pandas.pydata.org/pandas-docs/stable/reference/api/pandas.DataFrame.iloc.html?highlight=iloc#pandas.DataFrame.iloc\n",
        "# https://docs.scipy.org/doc/scipy/reference/generated/scipy.stats.describe.html\n",
        "\n",
        "# 1. X (Aufträge) und Y (Anzahl erfolgreich) Spalten erzeugen\n",
        "x= ds.iloc[:,0].values\n",
        "y= ds.iloc[:,1].values\n",
        "\n",
        "#print(x)\n",
        "#print(y)\n",
        "\n",
        "#stats.describe(y)\n",
        "\n",
        "plot.plot(ds)\n",
        "\n",
        "fig, (ax1, ax2) = plot.subplots(2, 1)\n",
        "ax1.plot(x)\n",
        "ax2.plot(y)\n",
        "fig.suptitle('Oben Aufträge, unten Anzahl erfolgreich ausgeführt')"
      ],
      "execution_count": null,
      "outputs": [
        {
          "output_type": "execute_result",
          "data": {
            "text/plain": [
              "Text(0.5, 0.98, 'Oben Aufträge, unten Anzahl erfolgreich ausgeführt')"
            ]
          },
          "metadata": {
            "tags": []
          },
          "execution_count": 80
        },
        {
          "output_type": "display_data",
          "data": {
            "image/png": "[encoded data removed]",
            "text/plain": [
              "<Figure size 432x288 with 1 Axes>"
            ]
          },
          "metadata": {
            "tags": [],
            "needs_background": "light"
          }
        },
        {
          "output_type": "display_data",
          "data": {
            "image/png": "[encoded data removed]",
            "text/plain": [
              "<Figure size 432x288 with 2 Axes>"
            ]
          },
          "metadata": {
            "tags": [],
            "needs_background": "light"
          }
        }
      ]
    },
    {
      "cell_type": "code",
      "metadata": {
        "colab": {
          "base_uri": "https://localhost:8080/"
        },
        "id": "mM0Q-ZicCL5m",
        "outputId": "6640a3fc-333d-4d99-914a-6d50a6feca71"
      },
      "source": [
        "# Aufsplitten des DS n ein TrainingsSet (train) und ein TestSet (test)\n",
        "# https://scikit-learn.org/stable/modules/generated/sklearn.model_selection.train_test_split.html?highlight=train_test_split#sklearn.model_selection.train_test_split\n",
        "\n",
        "x_train, x_test, y_train, y_test = train_test_split(x,y,test_size=1/7, random_state=0)\n",
        "print(x_train)\n",
        "print(y_train)"
      ],
      "execution_count": null,
      "outputs": [
        {
          "output_type": "stream",
          "text": [
            "[14  4 12  1  5  2  1  8  2 12  6  8  9  9  4 10  4  3  9  4  2  2  2  8\n",
            "  8  8 10  8 12  8  3  4  4  1  8  4  5  9  2  8 14  4 12  4  2  1  4  4\n",
            "  3]\n",
            "[14  4 11  1  5  2  1  7  2 11  2  7  9  6  4  6  4  1  8  4  2  2  2  0\n",
            "  7  7  8  8 10  8  2  2  4  1  8  4  5  2  2  0  8  2  8  4  2  1  4  4\n",
            "  1]\n"
          ],
          "name": "stdout"
        }
      ]
    },
    {
      "cell_type": "code",
      "metadata": {
        "colab": {
          "base_uri": "https://localhost:8080/",
          "height": 315
        },
        "id": "FuWkzMp43sKM",
        "outputId": "59646a9a-6b1b-4b1d-dc9d-8d9ce6195364"
      },
      "source": [
        "# Durchführen der eigentlichen linearen Regression\n",
        "# https://stephanosterburg.gitbook.io/scrapbook/coding/python/what-does-1-mean-in-numpy-reshape\n",
        "# https://scikit-learn.org/stable/auto_examples/linear_model/plot_ols.html\n",
        "\n",
        "linReg=LinearRegression()\n",
        "linReg.fit(x_train.reshape(-1,1) ,y_train)\n",
        "\n",
        "print(\"Ermittelter Koeffizient: \",linReg.coef_)\n",
        "\n",
        "testPredict= linReg.predict(x_test.reshape(-1,1))\n",
        "\n",
        "plot.scatter(x_train, y_train,  color='green')\n",
        "plot.scatter(x_test, y_test,  color='red')\n",
        "plot.plot(x_test, testPredict, color='blue', linewidth=3)\n",
        "\n",
        "plot.title(\"Ergebnis der Vorhersage\")"
      ],
      "execution_count": null,
      "outputs": [
        {
          "output_type": "stream",
          "text": [
            "Ermittelter Koeffizient:  [0.73681285]\n"
          ],
          "name": "stdout"
        },
        {
          "output_type": "execute_result",
          "data": {
            "text/plain": [
              "Text(0.5, 1.0, 'Ergebnis der Vorhersage')"
            ]
          },
          "metadata": {
            "tags": []
          },
          "execution_count": 90
        },
        {
          "output_type": "display_data",
          "data": {
            "image/png": "[encoded data removed]",
            "text/plain": [
              "<Figure size 432x288 with 1 Axes>"
            ]
          },
          "metadata": {
            "tags": [],
            "needs_background": "light"
          }
        }
      ]
    },
    {
      "cell_type": "markdown",
      "metadata": {
        "id": "ONfA5aHGMXGA"
      },
      "source": [
        "Die Grünen Punkte sind die zum Training verwendeten Daten, die Roten die im Test verwendeten Daten. Der tatsächliche Regressionsgraph (auf Basis der Testdaten) ist in blau eingetragen.\n",
        "\n",
        "Der Koeffizient kann zwischen 0 und 1 liegen und negativ sein. Hier beträgt er 0,7. Er ist positiv, daher der Anstieg der Geraden. In der Praxis bedeutet dies, dass es eine positive Relation gibt. Je mehr Aufträge erteilt wurden, umso höher war tendenziell die erfolgreiche Ausführung.\n",
        "\n",
        "Der Wert 0,7 ist eher weniger gut, jedoch sind bei den Daten eine Reihe Ausreißer (dies kommt in der Praxis durchaus vor). Hier könnte durch mehr Daten oder aber dem Ausschluss der Ausreißer die Vorhersage verbessert werden.\n",
        "\n",
        "Würde es sich bei näherer Betrachtung herausstellen, dass solche Ausreißer beispielsweise durch Ausscheiden des Mitarbeiter, einer Fehlerhaften Vergabe etc. verursacht würden, würden deren nicht Berücksichtigung das Ergebnis genauer machen.\n",
        "\n",
        "Grundsätzlich entspricht der Graph dem erwarteten Ergebnis: In der Tendenz bedeuten mehr Aufträge mehr erfolgreiche Durchführungen. Die Streuung ist den bewust großen Schwankungen zuzurechnen."
      ]
    }
  ]
}