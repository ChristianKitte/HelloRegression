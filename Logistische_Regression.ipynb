{
  "nbformat": 4,
  "nbformat_minor": 0,
  "metadata": {
    "colab": {
      "name": "Logistische Regression",
      "provenance": [],
      "collapsed_sections": [],
      "authorship_tag": "ABX9TyP7vvjQ+dIG9fI6yHZiGMIp",
      "include_colab_link": true
    },
    "kernelspec": {
      "name": "python3",
      "display_name": "Python 3"
    },
    "language_info": {
      "name": "python"
    }
  },
  "cells": [
    {
      "cell_type": "markdown",
      "metadata": {
        "id": "view-in-github",
        "colab_type": "text"
      },
      "source": [
        "<a href=\"https://colab.research.google.com/github/ChristianKitte/HelloRegression/blob/main/Logistische_Regression.ipynb\" target=\"_parent\"><img src=\"https://colab.research.google.com/assets/colab-badge.svg\" alt=\"Open In Colab\"/></a>"
      ]
    },
    {
      "cell_type": "code",
      "metadata": {
        "colab": {
          "base_uri": "https://localhost:8080/"
        },
        "id": "FBvyXGj7ez0w",
        "outputId": "9e916b58-8e7d-4e80-8ef5-618d31ff80da"
      },
      "source": [
        "%matplotlib inline\n",
        "\n",
        "import numpy as np\n",
        "import pandas as pd\n",
        "import matplotlib.pyplot as plt\n",
        "\n",
        "from sklearn import datasets\n",
        "from sklearn.linear_model import LogisticRegression\n",
        "\n",
        "print(\"Bibliotheken importiert....\")"
      ],
      "execution_count": 127,
      "outputs": [
        {
          "output_type": "stream",
          "text": [
            "Bibliotheken importiert....\n"
          ],
          "name": "stdout"
        }
      ]
    },
    {
      "cell_type": "markdown",
      "metadata": {
        "id": "3QKloSGq-pQt"
      },
      "source": [
        "Im ersten Schritt wird der IRIS Datensatz über die Variable ds zugänglich gemacht. Dies kann direkt über sklearn geschehen. Anschließend erfolgt die Trennung nach Target (target) und Merkmalen (data).\n",
        "\n",
        "Da ich mehrmals im Internet lesen konnte, dass der IRIS Datensatz bereits gut aufbereitet ist, werde ich hier nicht weiter versuchen, diesen zu cleanen.\n",
        "\n",
        "Da ich weder Einfluss auf die Features habe und auch das verwendete Modell\n",
        "aktuell nicht optimieren will, verzichte ich auf die Aufteilung in Trainings- und Testdaten und arbeite i.d.R mit den Defaultwerten."
      ]
    },
    {
      "cell_type": "code",
      "metadata": {
        "colab": {
          "base_uri": "https://localhost:8080/"
        },
        "id": "VaUjSTjRqC1b",
        "outputId": "87895ee7-1dbe-470e-b36f-7fc64cc8d1ae"
      },
      "source": [
        "# https://scikit-learn.org/stable/auto_examples/datasets/plot_iris_dataset.html\n",
        "# 'feature_names': ['sepal length (cm)', 'sepal width (cm)', 'petal length (cm)', 'petal width (cm)'],\n",
        "# 'target_names': ['setosa', 'versicolor', 'virginica'] mit 0, 1, 2 \n",
        "\n",
        "ds = datasets.load_iris()\n",
        "data=ds.data\n",
        "target=ds.target\n",
        "\n",
        "#ds\n",
        "#data\n",
        "#target\n",
        "\n",
        "print(\"Daten vorhanden\")"
      ],
      "execution_count": 128,
      "outputs": [
        {
          "output_type": "stream",
          "text": [
            "Daten vorhanden\n"
          ],
          "name": "stdout"
        }
      ]
    },
    {
      "cell_type": "markdown",
      "metadata": {
        "id": "d8ftoWgTAzOs"
      },
      "source": [
        "Es existieren vier vorgegebene Werte, welche den vier Merkmalen des Datensatzes zugeordnet werden können (Somit die an EINER Blume gemessenen vier Größen): \n",
        "\n",
        "sepal length (cm) = 4,8\n",
        "\n",
        "sepal width (cm) = 2,5\n",
        "\n",
        "petal length (cm) = 5,3\n",
        "\n",
        "petal width (cm) = 2,4\n",
        "\n",
        "(Hierbei wird davon ausgegangen, dass die Reihenfolge der im DS angegebenen Reihenfolge entspricht)\n",
        "\n",
        "Es ist anhand jeder der vier Angaben die Wahrscheinlichkeit zu berechnen, ob es sich um eine Iris Virginica handelt oder nicht. Im Datensatz ist Iris Virginica mit 2 gelabelt.\n"
      ]
    },
    {
      "cell_type": "markdown",
      "metadata": {
        "id": "r483KljJKK7K"
      },
      "source": [
        "\n",
        "\n",
        "---\n",
        "Im nächsten Schritt werden vier logistische Modelle, jeweils auf Basis eines einzelnen Merkmals, trainiert. Die Möglichen Klassen sind \"Iris Virginica\" sowie \"Nicht Iris Virginica\". Somit wird hier eine binäre logistische Regression durchgeführt.\n"
      ]
    },
    {
      "cell_type": "code",
      "metadata": {
        "colab": {
          "base_uri": "https://localhost:8080/"
        },
        "id": "H8lAxyVCqs8s",
        "outputId": "0fa45410-e8a3-43f6-cfcd-89e4e3f6acfe"
      },
      "source": [
        "# https://scikit-learn.org/stable/modules/generated/sklearn.linear_model.LogisticRegression.html\n",
        "\n",
        "# sepal length (cm) ==> sl\n",
        "sl=data[:,0] \n",
        "\n",
        "# sepal width (cm) ==> sw\n",
        "sw=data[:,1] \n",
        "\n",
        "#petal length (cm) ==> pl\n",
        "pl=data[:,2] \n",
        "\n",
        "# petal width (cm) ==> pw\n",
        "pw=data[:,3] \n",
        "\n",
        "y=(target==2).astype(np.int)     # Label virgincia => 1, der Rest => 0 (wg. astype). Das Aarray wird hierbei nicht gekürzt !!!\n",
        "\n",
        "logRegSl=LogisticRegression(max_iter=200)   # 200 notwendig, wenn ich alle Klassen verwende :)\n",
        "logRegSl.fit(sl.reshape(-1,1) ,y)\n",
        "\n",
        "logRegSw=LogisticRegression(max_iter=200)   # 200 notwendig, wenn ich alle Klassen verwende :)\n",
        "logRegSw.fit(sw.reshape(-1,1) ,y)\n",
        "\n",
        "logRegPl=LogisticRegression(max_iter=200)   # 200 notwendig, wenn ich alle Klassen verwende :)\n",
        "logRegPl.fit(pl.reshape(-1,1) ,y)\n",
        "\n",
        "logRegPw=LogisticRegression(max_iter=200)   # 200 notwendig, wenn ich alle Klassen verwende :)\n",
        "logRegPw.fit(pw.reshape(-1,1) ,y)\n",
        "\n",
        "print(\"Parameter SL: \",logRegSl.get_params)\n",
        "print(\"Parameter SW: \",logRegSw.get_params)\n",
        "print(\"Parameter PL: \",logRegPl.get_params)\n",
        "print(\"Parameter PW: \",logRegPw.get_params)\n",
        "print(\"\")\n",
        "print(\"Koeffizient SL: \",logRegSl.coef_)\n",
        "print(\"Koeffizient SW: \",logRegSw.coef_)\n",
        "print(\"Koeffizient PL: \",logRegPl.coef_)\n",
        "print(\"Koeffizient PW: \",logRegPw.coef_)\n",
        "print(\"\")\n",
        "print(\"Training vorbei\")"
      ],
      "execution_count": 129,
      "outputs": [
        {
          "output_type": "stream",
          "text": [
            "Parameter SL:  <bound method BaseEstimator.get_params of LogisticRegression(C=1.0, class_weight=None, dual=False, fit_intercept=True,\n",
            "                   intercept_scaling=1, l1_ratio=None, max_iter=200,\n",
            "                   multi_class='auto', n_jobs=None, penalty='l2',\n",
            "                   random_state=None, solver='lbfgs', tol=0.0001, verbose=0,\n",
            "                   warm_start=False)>\n",
            "Parameter SW:  <bound method BaseEstimator.get_params of LogisticRegression(C=1.0, class_weight=None, dual=False, fit_intercept=True,\n",
            "                   intercept_scaling=1, l1_ratio=None, max_iter=200,\n",
            "                   multi_class='auto', n_jobs=None, penalty='l2',\n",
            "                   random_state=None, solver='lbfgs', tol=0.0001, verbose=0,\n",
            "                   warm_start=False)>\n",
            "Parameter PL:  <bound method BaseEstimator.get_params of LogisticRegression(C=1.0, class_weight=None, dual=False, fit_intercept=True,\n",
            "                   intercept_scaling=1, l1_ratio=None, max_iter=200,\n",
            "                   multi_class='auto', n_jobs=None, penalty='l2',\n",
            "                   random_state=None, solver='lbfgs', tol=0.0001, verbose=0,\n",
            "                   warm_start=False)>\n",
            "Parameter PW:  <bound method BaseEstimator.get_params of LogisticRegression(C=1.0, class_weight=None, dual=False, fit_intercept=True,\n",
            "                   intercept_scaling=1, l1_ratio=None, max_iter=200,\n",
            "                   multi_class='auto', n_jobs=None, penalty='l2',\n",
            "                   random_state=None, solver='lbfgs', tol=0.0001, verbose=0,\n",
            "                   warm_start=False)>\n",
            "\n",
            "Koeffizient SL:  [[2.22982158]]\n",
            "Koeffizient SW:  [[-0.58528168]]\n",
            "Koeffizient PL:  [[3.59114121]]\n",
            "Koeffizient PW:  [[4.3330846]]\n",
            "\n",
            "Training vorbei\n"
          ],
          "name": "stdout"
        }
      ]
    },
    {
      "cell_type": "markdown",
      "metadata": {
        "id": "5t61f0KwKhSo"
      },
      "source": [
        "Im nächsten Schritt wird auf Basis der trainierten Modelle eine visuelle Darstellung der Regressionskurven sowie der Eigenschaften, getrennt nach den Merkmalen (oder Regressoren), dargestellt.\n",
        "\n",
        "Diese dient nur der Übersicht. Das Merkmal ist in cm skaliert."
      ]
    },
    {
      "cell_type": "code",
      "metadata": {
        "colab": {
          "base_uri": "https://localhost:8080/"
        },
        "id": "QkK8MR3aOJgv",
        "outputId": "3397f7e5-afc6-47e1-bfce-dfa1a0d47529"
      },
      "source": [
        "def makePlot(koeffizient, werte, prob, curAx, curNr):\n",
        "  curAx.plot(werte,prob[:,1], \"g-\", label=\"Iris-Virginica\")\n",
        "  curAx.plot(werte,prob[:,0], \"r--\", label=\"Keine Iris-Virginica\")\n",
        "\n",
        "  # Hier muss eine Fallunterscheidung hin ! \n",
        "  # Handelt es sich um einen negativen Koeffizienten, so nimmt die \n",
        "  # Wahrscheinlichkeit für P(Iris-Virginica) ab. Alternativ könnte \n",
        "  # man in diesen Fällen auch prob[:,0] verwenden.\n",
        "  if(koeffizient<0):\n",
        "    limValue= werte[prob[:,1]<=0.5][0]\n",
        "  else:\n",
        "    limValue= werte[prob[:,1]>=0.5][0] \n",
        "  \n",
        "  textPattern1=\"Diagramm \"\n",
        "  textPattern2=\", Grenzwert für P=0,5 liegt bei: \"\n",
        "  print(textPattern1 + str(curNr) + textPattern2 + str(limValue))\n",
        "  \n",
        "  return curAx.plot([limValue,limValue],[-0.5,1.5])\n",
        "\n",
        "print(\"Funktion makePlot angelegt\")"
      ],
      "execution_count": 130,
      "outputs": [
        {
          "output_type": "stream",
          "text": [
            "Funktion makePlot angelegt\n"
          ],
          "name": "stdout"
        }
      ]
    },
    {
      "cell_type": "code",
      "metadata": {
        "colab": {
          "base_uri": "https://localhost:8080/",
          "height": 423
        },
        "id": "YP4yABiFzN5T",
        "outputId": "f74fc186-b36e-4f27-dae2-80846d4a3a8f"
      },
      "source": [
        "# https://numpy.org/doc/stable/reference/generated/numpy.linspace.html\n",
        "# https://discuss.analyticsvidhya.com/t/what-is-the-difference-between-predict-and-predict-proba/67376/2\n",
        "# https://www.delftstack.com/de/howto/matplotlib/how-to-improve-subplot-size-or-spacing-with-many-subplots-in-matplotlib/ \n",
        "# https://www.studytonight.com/matplotlib/matplotlib-multiplots-with-subplots-function\n",
        "\n",
        "# Die Ausgabe der Wahrscheinlichkeit umfasst immer 2 Felder ==> 1: P für \"ist nicht\", 2: P für \"ist\"\n",
        "\n",
        "fig, ax = plt.subplots(4, 1)\n",
        "\n",
        "fig.suptitle('Grün: Wahrscheinlichkeit, dass es eine Iris-Virginica ist, Rot: Wahrscheinlichkeit, dass es keine Iris-Virginica ist)',  y=1.08)\n",
        "fig.tight_layout() # erzeugt passende Abstände ohne Überschneidungen :)\n",
        "\n",
        "# sl\n",
        "endWertSl=sl.max().round()\n",
        "werteSl=np.linspace(0,endWertSl,1000).reshape(-1,1)\n",
        "probSl= logRegSl.predict_proba(werteSl)\n",
        "makePlot(logRegSl.coef_ ,werteSl,probSl,ax[0],1)\n",
        "\n",
        "# sw\n",
        "endWertSw=sw.max().round()\n",
        "werteSw=np.linspace(0,endWertSw,1000).reshape(-1,1)\n",
        "probSw= logRegSw.predict_proba(werteSw)\n",
        "makePlot(logRegSw.coef_ ,werteSw,probSw,ax[1],2)\n",
        "\n",
        "# pl\n",
        "endWertPl=pl.max().round()\n",
        "wertePl=np.linspace(0,endWertPl,1000).reshape(-1,1)\n",
        "probPl= logRegPl.predict_proba(wertePl)\n",
        "makePlot(logRegPl.coef_ ,wertePl,probPl,ax[2],3)\n",
        "\n",
        "# pw\n",
        "endWertPw=pw.max().round()\n",
        "wertePw=np.linspace(0,endWertPw,1000).reshape(-1,1)\n",
        "probPw= logRegPw.predict_proba(wertePw)\n",
        "makePlot(logRegPw.coef_ ,wertePw,probPw,ax[3],4)\n",
        "\n",
        "#probSw.min()"
      ],
      "execution_count": 131,
      "outputs": [
        {
          "output_type": "stream",
          "text": [
            "Diagramm 1, Grenzwert für P=0,5 liegt bei: [6.32632633]\n",
            "Diagramm 2, Grenzwert für P=0,5 liegt bei: [1.85785786]\n",
            "Diagramm 3, Grenzwert für P=0,5 liegt bei: [4.87687688]\n",
            "Diagramm 4, Grenzwert für P=0,5 liegt bei: [1.66166166]\n"
          ],
          "name": "stdout"
        },
        {
          "output_type": "execute_result",
          "data": {
            "text/plain": [
              "[<matplotlib.lines.Line2D at 0x7f18cc624550>]"
            ]
          },
          "metadata": {
            "tags": []
          },
          "execution_count": 131
        },
        {
          "output_type": "display_data",
          "data": {
            "image/png": "[encoded data removed]",
            "text/plain": [
              "<Figure size 432x288 with 4 Axes>"
            ]
          },
          "metadata": {
            "tags": [],
            "needs_background": "light"
          }
        }
      ]
    },
    {
      "cell_type": "markdown",
      "metadata": {
        "id": "9USnRYjbtk2x"
      },
      "source": [
        "Abschließend komme ich nun zur Beantwortung der Frage, ob es sich bei \"meiner\" gefundenen Blume um eine Iris Virginica handelt.\n",
        "\n",
        "Folgende Werte habe ich gemessen:\n",
        "\n",
        "sepal length (cm) = 4,8 \n",
        "\n",
        "sepal width (cm) = 2,5 \n",
        "\n",
        "petal length (cm) = 5,3 \n",
        "\n",
        "petal width (cm) = 2,4\n",
        "\n",
        "Diese verwende ich und lasse mir anhand meiner vier binären Modelle, jeweils mit dem entsprechende Merkmal trainiert, eine Vorhersage machen. \n",
        "Im Idealfall sollte ich immer entweder ein positive oder negative Aussage erhalten."
      ]
    },
    {
      "cell_type": "code",
      "metadata": {
        "colab": {
          "base_uri": "https://localhost:8080/"
        },
        "id": "5wKo-4PWmMev",
        "outputId": "e8cf3899-85ba-49cd-b406-9b0fda5b43b9"
      },
      "source": [
        "def predictByFeature(merkmal, wert, model):\n",
        "  wertArray = np.asarray(wert)\n",
        "  wertArray = wertArray.reshape(-1,1)\n",
        "  \n",
        "  vorhersageAbsolut= model.predict(wertArray)\n",
        "  vorhersageWahrscheinlichkeit = model.predict_proba(wertArray)\n",
        "\n",
        "  print(\"Merkmal: \" + merkmal)\n",
        "  print(\"Gemessener Wert: \" + str(wert))\n",
        "  print(\"Vorhersage: \" + str(vorhersageAbsolut))\n",
        "  print(\"Wahrscheinlichkeit, dass es sich um eine Iris Virginica handelt: \" + str(vorhersageWahrscheinlichkeit[:,1]))\n",
        "  print(\"Wahrscheinlichkeit, dass es sich um keine Iris Virginica handelt: \" + str(vorhersageWahrscheinlichkeit[:,0]))\n",
        "  print(\"\")\n",
        "\n",
        "print(\"Funktion wurde erstellt\")"
      ],
      "execution_count": 132,
      "outputs": [
        {
          "output_type": "stream",
          "text": [
            "Funktion wurde erstellt\n"
          ],
          "name": "stdout"
        }
      ]
    },
    {
      "cell_type": "code",
      "metadata": {
        "colab": {
          "base_uri": "https://localhost:8080/"
        },
        "id": "XGtxG7lcw3mW",
        "outputId": "666eb173-caed-4477-b952-5262a51e0e0e"
      },
      "source": [
        "print(\"Ergebnisse der binären Regression: \")\n",
        "\n",
        "predictByFeature(\"Sepal Length (Sl)\",4.8,logRegSl)\n",
        "predictByFeature(\"Sepal Width (Sw)\",2.5,logRegSw)\n",
        "predictByFeature(\"Petal Length (Pl)\",5.3,logRegPl)\n",
        "predictByFeature(\"Petal Width (Pw)\",2.4,logRegPw)"
      ],
      "execution_count": 133,
      "outputs": [
        {
          "output_type": "stream",
          "text": [
            "Ergebnisse der binären Regression: \n",
            "Merkmal: Sepal Length (Sl)\n",
            "Gemessener Wert: 4.8\n",
            "Vorhersage: [0]\n",
            "Wahrscheinlichkeit, dass es sich um eine Iris Virginica handelt: [0.03237634]\n",
            "Wahrscheinlichkeit, dass es sich um keine Iris Virginica handelt: [0.96762366]\n",
            "\n",
            "Merkmal: Sepal Width (Sw)\n",
            "Gemessener Wert: 2.5\n",
            "Vorhersage: [0]\n",
            "Wahrscheinlichkeit, dass es sich um eine Iris Virginica handelt: [0.4066497]\n",
            "Wahrscheinlichkeit, dass es sich um keine Iris Virginica handelt: [0.5933503]\n",
            "\n",
            "Merkmal: Petal Length (Pl)\n",
            "Gemessener Wert: 5.3\n",
            "Vorhersage: [1]\n",
            "Wahrscheinlichkeit, dass es sich um eine Iris Virginica handelt: [0.82089909]\n",
            "Wahrscheinlichkeit, dass es sich um keine Iris Virginica handelt: [0.17910091]\n",
            "\n",
            "Merkmal: Petal Width (Pw)\n",
            "Gemessener Wert: 2.4\n",
            "Vorhersage: [1]\n",
            "Wahrscheinlichkeit, dass es sich um eine Iris Virginica handelt: [0.96101057]\n",
            "Wahrscheinlichkeit, dass es sich um keine Iris Virginica handelt: [0.03898943]\n",
            "\n"
          ],
          "name": "stdout"
        }
      ]
    },
    {
      "cell_type": "markdown",
      "metadata": {
        "id": "F3w4RIh65B4h"
      },
      "source": [
        "Das Ergebnis ist nicht ganz klar. Wird beispielsweise alleine Sepal Length zur Beurteilung herangezogen, so ist die Wahrscheinlichkeit eher sehr klein, dass es sich um eine Iris Virginica handelt. Nimmt man hingegen Petal With, so ist die Wahrscheinlichkeit für das Gegenteil sehr hoch.\n",
        "\n",
        "Nicht hilfreich :)\n",
        "\n",
        "\n",
        "---\n",
        "\n",
        "Als weiterer Schritt wird nunmehr das Modell mit allen vier Werten trainiert und die Vorhersage anhand aller vier Werte vorgenommen."
      ]
    },
    {
      "cell_type": "code",
      "metadata": {
        "colab": {
          "base_uri": "https://localhost:8080/"
        },
        "id": "PfvR1gpT5Cbh",
        "outputId": "f6cc8265-2926-4315-b80d-208e4c13e501"
      },
      "source": [
        "# https://realpython.com/logistic-regression-python/\n",
        "# https://hub.gke2.mybinder.org/user/scikit-learn-scikit-learn-8ljgciu1/lab/tree/notebooks/auto_examples/linear_model/plot_iris_logistic.ipynb\n",
        "# https://heartbeat.fritz.ai/logistic-regression-in-python-using-scikit-learn-d34e882eebb1\n",
        "\n",
        "# Es werden alle Merkmale genutzt(cm)\n",
        "x_all = data[:,:] \n",
        "y_all = (target==2).astype(np.int)     # Label virgincia => 1, der Rest => 0 (wg. astype). Das Aarray wird hierbei nicht gekürzt !!!\n",
        "\n",
        "logRegAll=LogisticRegression(max_iter=200)   # 200 notwendig, wenn ich alle Klassen verwende :)\n",
        "logRegAll.fit(x_all ,y)\n",
        "\n",
        "print(\"Klassen\", logRegAll.classes_)\n",
        "print(\"Intercept <> b0\", logRegAll.intercept_)\n",
        "print(\"Koeffizienten <> b1, b2, ...\", logRegAll.coef_)\n",
        "\n",
        "wert= np.asarray([4.8,2.5,5.3,2.4]) # muss natürlich der Reihenfolge des DS entsprechen...\n",
        "voerhersage= logRegAll.predict(wert.reshape(-1,4))\n",
        "voerhersage2= logRegAll.predict_proba(wert.reshape(-1,4))\n",
        "print(\"Vorhersage: \",voerhersage[0])\n",
        "print(\"Wahrscheinlichkeit, dass es sich um eine Iris Virginica handelt: \", voerhersage2[:,1])\n",
        "print(\"Wahrscheinlichkeit, dass es sich um keine Iris Virginica handelt: \", voerhersage2[:,0])"
      ],
      "execution_count": 134,
      "outputs": [
        {
          "output_type": "stream",
          "text": [
            "Klassen [0 1]\n",
            "Intercept <> b0 [-14.43121671]\n",
            "Koeffizienten <> b1, b2, ... [[-0.39444787 -0.5133412   2.93087523  2.41709879]]\n",
            "Vorhersage:  1\n",
            "Wahrscheinlichkeit, dass es sich um eine Iris Virginica handelt:  [0.976495]\n",
            "Wahrscheinlichkeit, dass es sich um keine Iris Virginica handelt:  [0.023505]\n"
          ],
          "name": "stdout"
        }
      ]
    },
    {
      "cell_type": "markdown",
      "metadata": {
        "id": "vn4iqm41Og6l"
      },
      "source": [
        "Auf Basis eines mit allen vier features trainierten Modells erhalten wir die Aussage, dass es sich bei der Blume zu 97,6 % um eine Iris Virginica handelt. \n",
        "Ich persönlich traue diesem Modell mehr als die nur mit einem feature trainierten Modelle. Daher ist meiner finale Antwort:\n",
        "\n",
        "Ja, es handelt sich um eine Iris Virginica!\n",
        "\n",
        "PS: tatsächlich ergibt sich der o.g. Wert auch bei einer manuellen Berechnung anhand der im Skript gegebenen Formel unter Verwendung der o.g. Werte (Koeffizienten und Intercept)."
      ]
    }
  ]
}